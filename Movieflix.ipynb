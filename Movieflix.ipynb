{
  "nbformat": 4,
  "nbformat_minor": 0,
  "metadata": {
    "colab": {
      "name": "Movieflix.ipynb",
      "provenance": [],
      "collapsed_sections": []
    },
    "kernelspec": {
      "name": "python3",
      "display_name": "Python 3"
    },
    "language_info": {
      "name": "python"
    }
  },
  "cells": [
    {
      "cell_type": "markdown",
      "metadata": {
        "id": "e48X6AjC742Q"
      },
      "source": [
        "# Importing necessary libraries"
      ]
    },
    {
      "cell_type": "code",
      "metadata": {
        "colab": {
          "base_uri": "https://localhost:8080/"
        },
        "id": "VcVbl1PA3FD-",
        "outputId": "6f5296d8-6835-4fa5-c586-776ef22ade05"
      },
      "source": [
        "import numpy as np # numeric computations\n",
        "import pandas as pd # data processing\n",
        "import matplotlib.pyplot as plt # plotting graphs\n",
        "import warnings # warnings\n",
        "%matplotlib inline # to display the plots displayed inline within Jupyter notebook\n",
        "plt.style.use('seaborn') # Chaning the plot style\n",
        "warnings.filterwarnings(\"ignore\") # to ignore any warnings"
      ],
      "execution_count": 1,
      "outputs": [
        {
          "output_type": "stream",
          "text": [
            "UsageError: unrecognized arguments: # to display the plots displayed inline within Jupyter notebook\n"
          ],
          "name": "stderr"
        }
      ]
    },
    {
      "cell_type": "markdown",
      "metadata": {
        "id": "LFYEs9uCxWVX"
      },
      "source": [
        "Group Members:\n",
        "1. Akshay - 1711036\n",
        "2. Girish - 1711059\n",
        "3. Arghyadeep - \n",
        "4. Mihir -\n",
        "5. Kaustabh -\n",
        "6. Abdeali -"
      ]
    },
    {
      "cell_type": "markdown",
      "metadata": {
        "id": "yHnIuJ0E7_DR"
      },
      "source": [
        "# Loading the dataset"
      ]
    },
    {
      "cell_type": "code",
      "metadata": {
        "id": "VU00Ow1Y5ApF"
      },
      "source": [
        "# Loading the IMDB dataset into pandas dataframe\n",
        "df_movies = pd.read_csv('/content/movies.csv') # reading movies.csv file\n",
        "df_ratings = pd.read_csv('/content/ratings.csv') # reading ratings.csv file"
      ],
      "execution_count": 2,
      "outputs": []
    },
    {
      "cell_type": "markdown",
      "metadata": {
        "id": "qIZT6A5G8EeC"
      },
      "source": [
        "# Exploratory Data Analysis (EDA)\n",
        "\n",
        "EDA involves looking at and describing the data set from various angles and then summarizing it. It is helpful in analyzing the distribution and statistics of our data."
      ]
    },
    {
      "cell_type": "code",
      "metadata": {
        "colab": {
          "base_uri": "https://localhost:8080/"
        },
        "id": "X1xr7jdQ8m0Q",
        "outputId": "3920aa07-e5d4-4748-98b5-39167a880a13"
      },
      "source": [
        "# shape attribute tells us a number of tuples and feature variables in our dataset\n",
        "print(\"Shape of df_movies: \", df_movies.shape)\n",
        "print(\"Shape of df_ratings: \", df_ratings.shape)"
      ],
      "execution_count": 3,
      "outputs": [
        {
          "output_type": "stream",
          "text": [
            "Shape of df_movies:  (10329, 3)\n",
            "Shape of df_ratings:  (105339, 4)\n"
          ],
          "name": "stdout"
        }
      ]
    },
    {
      "cell_type": "code",
      "metadata": {
        "colab": {
          "base_uri": "https://localhost:8080/",
          "height": 343
        },
        "id": "Tsxq9Eoe5ibX",
        "outputId": "18b1a1a1-a429-4d62-95c8-4e9ce515d190"
      },
      "source": [
        "# print top 10 rows of dataframe - movies\n",
        "df_movies.head(10)"
      ],
      "execution_count": 4,
      "outputs": [
        {
          "output_type": "execute_result",
          "data": {
            "text/html": [
              "<div>\n",
              "<style scoped>\n",
              "    .dataframe tbody tr th:only-of-type {\n",
              "        vertical-align: middle;\n",
              "    }\n",
              "\n",
              "    .dataframe tbody tr th {\n",
              "        vertical-align: top;\n",
              "    }\n",
              "\n",
              "    .dataframe thead th {\n",
              "        text-align: right;\n",
              "    }\n",
              "</style>\n",
              "<table border=\"1\" class=\"dataframe\">\n",
              "  <thead>\n",
              "    <tr style=\"text-align: right;\">\n",
              "      <th></th>\n",
              "      <th>movieId</th>\n",
              "      <th>title</th>\n",
              "      <th>genres</th>\n",
              "    </tr>\n",
              "  </thead>\n",
              "  <tbody>\n",
              "    <tr>\n",
              "      <th>0</th>\n",
              "      <td>1</td>\n",
              "      <td>Toy Story (1995)</td>\n",
              "      <td>Adventure|Animation|Children|Comedy|Fantasy</td>\n",
              "    </tr>\n",
              "    <tr>\n",
              "      <th>1</th>\n",
              "      <td>2</td>\n",
              "      <td>Jumanji (1995)</td>\n",
              "      <td>Adventure|Children|Fantasy</td>\n",
              "    </tr>\n",
              "    <tr>\n",
              "      <th>2</th>\n",
              "      <td>3</td>\n",
              "      <td>Grumpier Old Men (1995)</td>\n",
              "      <td>Comedy|Romance</td>\n",
              "    </tr>\n",
              "    <tr>\n",
              "      <th>3</th>\n",
              "      <td>4</td>\n",
              "      <td>Waiting to Exhale (1995)</td>\n",
              "      <td>Comedy|Drama|Romance</td>\n",
              "    </tr>\n",
              "    <tr>\n",
              "      <th>4</th>\n",
              "      <td>5</td>\n",
              "      <td>Father of the Bride Part II (1995)</td>\n",
              "      <td>Comedy</td>\n",
              "    </tr>\n",
              "    <tr>\n",
              "      <th>5</th>\n",
              "      <td>6</td>\n",
              "      <td>Heat (1995)</td>\n",
              "      <td>Action|Crime|Thriller</td>\n",
              "    </tr>\n",
              "    <tr>\n",
              "      <th>6</th>\n",
              "      <td>7</td>\n",
              "      <td>Sabrina (1995)</td>\n",
              "      <td>Comedy|Romance</td>\n",
              "    </tr>\n",
              "    <tr>\n",
              "      <th>7</th>\n",
              "      <td>8</td>\n",
              "      <td>Tom and Huck (1995)</td>\n",
              "      <td>Adventure|Children</td>\n",
              "    </tr>\n",
              "    <tr>\n",
              "      <th>8</th>\n",
              "      <td>9</td>\n",
              "      <td>Sudden Death (1995)</td>\n",
              "      <td>Action</td>\n",
              "    </tr>\n",
              "    <tr>\n",
              "      <th>9</th>\n",
              "      <td>10</td>\n",
              "      <td>GoldenEye (1995)</td>\n",
              "      <td>Action|Adventure|Thriller</td>\n",
              "    </tr>\n",
              "  </tbody>\n",
              "</table>\n",
              "</div>"
            ],
            "text/plain": [
              "   movieId  ...                                       genres\n",
              "0        1  ...  Adventure|Animation|Children|Comedy|Fantasy\n",
              "1        2  ...                   Adventure|Children|Fantasy\n",
              "2        3  ...                               Comedy|Romance\n",
              "3        4  ...                         Comedy|Drama|Romance\n",
              "4        5  ...                                       Comedy\n",
              "5        6  ...                        Action|Crime|Thriller\n",
              "6        7  ...                               Comedy|Romance\n",
              "7        8  ...                           Adventure|Children\n",
              "8        9  ...                                       Action\n",
              "9       10  ...                    Action|Adventure|Thriller\n",
              "\n",
              "[10 rows x 3 columns]"
            ]
          },
          "metadata": {
            "tags": []
          },
          "execution_count": 4
        }
      ]
    },
    {
      "cell_type": "code",
      "metadata": {
        "colab": {
          "base_uri": "https://localhost:8080/",
          "height": 343
        },
        "id": "3LCTmXV45jwF",
        "outputId": "d8962731-1065-406b-d1a7-74976b3d644a"
      },
      "source": [
        "# print top 10 rows of dataframe - ratings\n",
        "df_ratings.head(10)"
      ],
      "execution_count": 5,
      "outputs": [
        {
          "output_type": "execute_result",
          "data": {
            "text/html": [
              "<div>\n",
              "<style scoped>\n",
              "    .dataframe tbody tr th:only-of-type {\n",
              "        vertical-align: middle;\n",
              "    }\n",
              "\n",
              "    .dataframe tbody tr th {\n",
              "        vertical-align: top;\n",
              "    }\n",
              "\n",
              "    .dataframe thead th {\n",
              "        text-align: right;\n",
              "    }\n",
              "</style>\n",
              "<table border=\"1\" class=\"dataframe\">\n",
              "  <thead>\n",
              "    <tr style=\"text-align: right;\">\n",
              "      <th></th>\n",
              "      <th>userId</th>\n",
              "      <th>movieId</th>\n",
              "      <th>rating</th>\n",
              "      <th>timestamp</th>\n",
              "    </tr>\n",
              "  </thead>\n",
              "  <tbody>\n",
              "    <tr>\n",
              "      <th>0</th>\n",
              "      <td>1</td>\n",
              "      <td>16</td>\n",
              "      <td>4.0</td>\n",
              "      <td>1217897793</td>\n",
              "    </tr>\n",
              "    <tr>\n",
              "      <th>1</th>\n",
              "      <td>1</td>\n",
              "      <td>24</td>\n",
              "      <td>1.5</td>\n",
              "      <td>1217895807</td>\n",
              "    </tr>\n",
              "    <tr>\n",
              "      <th>2</th>\n",
              "      <td>1</td>\n",
              "      <td>32</td>\n",
              "      <td>4.0</td>\n",
              "      <td>1217896246</td>\n",
              "    </tr>\n",
              "    <tr>\n",
              "      <th>3</th>\n",
              "      <td>1</td>\n",
              "      <td>47</td>\n",
              "      <td>4.0</td>\n",
              "      <td>1217896556</td>\n",
              "    </tr>\n",
              "    <tr>\n",
              "      <th>4</th>\n",
              "      <td>1</td>\n",
              "      <td>50</td>\n",
              "      <td>4.0</td>\n",
              "      <td>1217896523</td>\n",
              "    </tr>\n",
              "    <tr>\n",
              "      <th>5</th>\n",
              "      <td>1</td>\n",
              "      <td>110</td>\n",
              "      <td>4.0</td>\n",
              "      <td>1217896150</td>\n",
              "    </tr>\n",
              "    <tr>\n",
              "      <th>6</th>\n",
              "      <td>1</td>\n",
              "      <td>150</td>\n",
              "      <td>3.0</td>\n",
              "      <td>1217895940</td>\n",
              "    </tr>\n",
              "    <tr>\n",
              "      <th>7</th>\n",
              "      <td>1</td>\n",
              "      <td>161</td>\n",
              "      <td>4.0</td>\n",
              "      <td>1217897864</td>\n",
              "    </tr>\n",
              "    <tr>\n",
              "      <th>8</th>\n",
              "      <td>1</td>\n",
              "      <td>165</td>\n",
              "      <td>3.0</td>\n",
              "      <td>1217897135</td>\n",
              "    </tr>\n",
              "    <tr>\n",
              "      <th>9</th>\n",
              "      <td>1</td>\n",
              "      <td>204</td>\n",
              "      <td>0.5</td>\n",
              "      <td>1217895786</td>\n",
              "    </tr>\n",
              "  </tbody>\n",
              "</table>\n",
              "</div>"
            ],
            "text/plain": [
              "   userId  movieId  rating   timestamp\n",
              "0       1       16     4.0  1217897793\n",
              "1       1       24     1.5  1217895807\n",
              "2       1       32     4.0  1217896246\n",
              "3       1       47     4.0  1217896556\n",
              "4       1       50     4.0  1217896523\n",
              "5       1      110     4.0  1217896150\n",
              "6       1      150     3.0  1217895940\n",
              "7       1      161     4.0  1217897864\n",
              "8       1      165     3.0  1217897135\n",
              "9       1      204     0.5  1217895786"
            ]
          },
          "metadata": {
            "tags": []
          },
          "execution_count": 5
        }
      ]
    },
    {
      "cell_type": "markdown",
      "metadata": {
        "id": "TYqzO2UiyWuh"
      },
      "source": [
        "So, rating dataset has\n",
        "1. userId - unique for each user\n",
        "2. movieId - we can take the title of the movie from movies dataset\n",
        "3. rating - Ratings given by each user to all the movies"
      ]
    },
    {
      "cell_type": "code",
      "metadata": {
        "colab": {
          "base_uri": "https://localhost:8080/"
        },
        "id": "VoMdDAvo5mwZ",
        "outputId": "2c33c83f-56e3-4d5d-f501-f99ff330c876"
      },
      "source": [
        "# df.info() function is used to get a concise summary of the dataframe\n",
        "df_movies.info()"
      ],
      "execution_count": 6,
      "outputs": [
        {
          "output_type": "stream",
          "text": [
            "<class 'pandas.core.frame.DataFrame'>\n",
            "RangeIndex: 10329 entries, 0 to 10328\n",
            "Data columns (total 3 columns):\n",
            " #   Column   Non-Null Count  Dtype \n",
            "---  ------   --------------  ----- \n",
            " 0   movieId  10329 non-null  int64 \n",
            " 1   title    10329 non-null  object\n",
            " 2   genres   10329 non-null  object\n",
            "dtypes: int64(1), object(2)\n",
            "memory usage: 242.2+ KB\n"
          ],
          "name": "stdout"
        }
      ]
    },
    {
      "cell_type": "code",
      "metadata": {
        "colab": {
          "base_uri": "https://localhost:8080/"
        },
        "id": "bmHodwsV7WoJ",
        "outputId": "9d38cc86-9fd4-45e9-80aa-78ee3ce07eb5"
      },
      "source": [
        "df_ratings.info()"
      ],
      "execution_count": 7,
      "outputs": [
        {
          "output_type": "stream",
          "text": [
            "<class 'pandas.core.frame.DataFrame'>\n",
            "RangeIndex: 105339 entries, 0 to 105338\n",
            "Data columns (total 4 columns):\n",
            " #   Column     Non-Null Count   Dtype  \n",
            "---  ------     --------------   -----  \n",
            " 0   userId     105339 non-null  int64  \n",
            " 1   movieId    105339 non-null  int64  \n",
            " 2   rating     105339 non-null  float64\n",
            " 3   timestamp  105339 non-null  int64  \n",
            "dtypes: float64(1), int64(3)\n",
            "memory usage: 3.2 MB\n"
          ],
          "name": "stdout"
        }
      ]
    },
    {
      "cell_type": "code",
      "metadata": {
        "colab": {
          "base_uri": "https://localhost:8080/",
          "height": 284
        },
        "id": "0S_3WPb27ZYE",
        "outputId": "e14158c2-e05b-429b-e30d-9d3f35cfa424"
      },
      "source": [
        "# get the statistical summary of dataframe (exclude any object-type variables)\n",
        "# df.describe() tells us about statistical details like percentile, mean, std deviation, etc.\n",
        "df_movies.describe(exclude='object')"
      ],
      "execution_count": 8,
      "outputs": [
        {
          "output_type": "execute_result",
          "data": {
            "text/html": [
              "<div>\n",
              "<style scoped>\n",
              "    .dataframe tbody tr th:only-of-type {\n",
              "        vertical-align: middle;\n",
              "    }\n",
              "\n",
              "    .dataframe tbody tr th {\n",
              "        vertical-align: top;\n",
              "    }\n",
              "\n",
              "    .dataframe thead th {\n",
              "        text-align: right;\n",
              "    }\n",
              "</style>\n",
              "<table border=\"1\" class=\"dataframe\">\n",
              "  <thead>\n",
              "    <tr style=\"text-align: right;\">\n",
              "      <th></th>\n",
              "      <th>movieId</th>\n",
              "    </tr>\n",
              "  </thead>\n",
              "  <tbody>\n",
              "    <tr>\n",
              "      <th>count</th>\n",
              "      <td>10329.000000</td>\n",
              "    </tr>\n",
              "    <tr>\n",
              "      <th>mean</th>\n",
              "      <td>31924.282893</td>\n",
              "    </tr>\n",
              "    <tr>\n",
              "      <th>std</th>\n",
              "      <td>37734.741149</td>\n",
              "    </tr>\n",
              "    <tr>\n",
              "      <th>min</th>\n",
              "      <td>1.000000</td>\n",
              "    </tr>\n",
              "    <tr>\n",
              "      <th>25%</th>\n",
              "      <td>3240.000000</td>\n",
              "    </tr>\n",
              "    <tr>\n",
              "      <th>50%</th>\n",
              "      <td>7088.000000</td>\n",
              "    </tr>\n",
              "    <tr>\n",
              "      <th>75%</th>\n",
              "      <td>59900.000000</td>\n",
              "    </tr>\n",
              "    <tr>\n",
              "      <th>max</th>\n",
              "      <td>149532.000000</td>\n",
              "    </tr>\n",
              "  </tbody>\n",
              "</table>\n",
              "</div>"
            ],
            "text/plain": [
              "             movieId\n",
              "count   10329.000000\n",
              "mean    31924.282893\n",
              "std     37734.741149\n",
              "min         1.000000\n",
              "25%      3240.000000\n",
              "50%      7088.000000\n",
              "75%     59900.000000\n",
              "max    149532.000000"
            ]
          },
          "metadata": {
            "tags": []
          },
          "execution_count": 8
        }
      ]
    },
    {
      "cell_type": "code",
      "metadata": {
        "colab": {
          "base_uri": "https://localhost:8080/",
          "height": 284
        },
        "id": "LIEdSexd7fZP",
        "outputId": "30bd8207-1126-4d69-f6bc-565fde3f846a"
      },
      "source": [
        "df_ratings.describe()"
      ],
      "execution_count": 9,
      "outputs": [
        {
          "output_type": "execute_result",
          "data": {
            "text/html": [
              "<div>\n",
              "<style scoped>\n",
              "    .dataframe tbody tr th:only-of-type {\n",
              "        vertical-align: middle;\n",
              "    }\n",
              "\n",
              "    .dataframe tbody tr th {\n",
              "        vertical-align: top;\n",
              "    }\n",
              "\n",
              "    .dataframe thead th {\n",
              "        text-align: right;\n",
              "    }\n",
              "</style>\n",
              "<table border=\"1\" class=\"dataframe\">\n",
              "  <thead>\n",
              "    <tr style=\"text-align: right;\">\n",
              "      <th></th>\n",
              "      <th>userId</th>\n",
              "      <th>movieId</th>\n",
              "      <th>rating</th>\n",
              "      <th>timestamp</th>\n",
              "    </tr>\n",
              "  </thead>\n",
              "  <tbody>\n",
              "    <tr>\n",
              "      <th>count</th>\n",
              "      <td>105339.000000</td>\n",
              "      <td>105339.000000</td>\n",
              "      <td>105339.000000</td>\n",
              "      <td>1.053390e+05</td>\n",
              "    </tr>\n",
              "    <tr>\n",
              "      <th>mean</th>\n",
              "      <td>364.924539</td>\n",
              "      <td>13381.312477</td>\n",
              "      <td>3.516850</td>\n",
              "      <td>1.130424e+09</td>\n",
              "    </tr>\n",
              "    <tr>\n",
              "      <th>std</th>\n",
              "      <td>197.486905</td>\n",
              "      <td>26170.456869</td>\n",
              "      <td>1.044872</td>\n",
              "      <td>1.802660e+08</td>\n",
              "    </tr>\n",
              "    <tr>\n",
              "      <th>min</th>\n",
              "      <td>1.000000</td>\n",
              "      <td>1.000000</td>\n",
              "      <td>0.500000</td>\n",
              "      <td>8.285650e+08</td>\n",
              "    </tr>\n",
              "    <tr>\n",
              "      <th>25%</th>\n",
              "      <td>192.000000</td>\n",
              "      <td>1073.000000</td>\n",
              "      <td>3.000000</td>\n",
              "      <td>9.711008e+08</td>\n",
              "    </tr>\n",
              "    <tr>\n",
              "      <th>50%</th>\n",
              "      <td>383.000000</td>\n",
              "      <td>2497.000000</td>\n",
              "      <td>3.500000</td>\n",
              "      <td>1.115154e+09</td>\n",
              "    </tr>\n",
              "    <tr>\n",
              "      <th>75%</th>\n",
              "      <td>557.000000</td>\n",
              "      <td>5991.000000</td>\n",
              "      <td>4.000000</td>\n",
              "      <td>1.275496e+09</td>\n",
              "    </tr>\n",
              "    <tr>\n",
              "      <th>max</th>\n",
              "      <td>668.000000</td>\n",
              "      <td>149532.000000</td>\n",
              "      <td>5.000000</td>\n",
              "      <td>1.452405e+09</td>\n",
              "    </tr>\n",
              "  </tbody>\n",
              "</table>\n",
              "</div>"
            ],
            "text/plain": [
              "              userId        movieId         rating     timestamp\n",
              "count  105339.000000  105339.000000  105339.000000  1.053390e+05\n",
              "mean      364.924539   13381.312477       3.516850  1.130424e+09\n",
              "std       197.486905   26170.456869       1.044872  1.802660e+08\n",
              "min         1.000000       1.000000       0.500000  8.285650e+08\n",
              "25%       192.000000    1073.000000       3.000000  9.711008e+08\n",
              "50%       383.000000    2497.000000       3.500000  1.115154e+09\n",
              "75%       557.000000    5991.000000       4.000000  1.275496e+09\n",
              "max       668.000000  149532.000000       5.000000  1.452405e+09"
            ]
          },
          "metadata": {
            "tags": []
          },
          "execution_count": 9
        }
      ]
    },
    {
      "cell_type": "code",
      "metadata": {
        "colab": {
          "base_uri": "https://localhost:8080/"
        },
        "id": "XzwHNFgp7mQG",
        "outputId": "46c06331-c083-48db-c8cb-eabad3de3f50"
      },
      "source": [
        "# getting the number of movies under each genre\n",
        "genrewise_movies_count = {}\n",
        "for genres in df_movies[\"genres\"]:\n",
        "  for genre in genres.split(\"|\"):\n",
        "    genrewise_movies_count[genre] = genrewise_movies_count.get(genre, 0) + 1\n",
        "\n",
        "print(\"Number of unique genres: \", len(list(genrewise_movies_count)))\n",
        "genrewise_movies_count"
      ],
      "execution_count": 10,
      "outputs": [
        {
          "output_type": "stream",
          "text": [
            "Number of unique genres:  20\n"
          ],
          "name": "stdout"
        },
        {
          "output_type": "execute_result",
          "data": {
            "text/plain": [
              "{'(no genres listed)': 7,\n",
              " 'Action': 1737,\n",
              " 'Adventure': 1164,\n",
              " 'Animation': 401,\n",
              " 'Children': 540,\n",
              " 'Comedy': 3515,\n",
              " 'Crime': 1440,\n",
              " 'Documentary': 415,\n",
              " 'Drama': 5220,\n",
              " 'Fantasy': 670,\n",
              " 'Film-Noir': 195,\n",
              " 'Horror': 1001,\n",
              " 'IMAX': 152,\n",
              " 'Musical': 409,\n",
              " 'Mystery': 675,\n",
              " 'Romance': 1788,\n",
              " 'Sci-Fi': 860,\n",
              " 'Thriller': 2187,\n",
              " 'War': 503,\n",
              " 'Western': 235}"
            ]
          },
          "metadata": {
            "tags": []
          },
          "execution_count": 10
        }
      ]
    },
    {
      "cell_type": "markdown",
      "metadata": {
        "id": "m8RtQw4vCCab"
      },
      "source": [
        "## Data Visualisation"
      ]
    },
    {
      "cell_type": "markdown",
      "metadata": {
        "id": "68Ln48nLvmO9"
      },
      "source": [
        "### Barplot of Genres vs No. of movies"
      ]
    },
    {
      "cell_type": "code",
      "metadata": {
        "colab": {
          "base_uri": "https://localhost:8080/",
          "height": 0
        },
        "id": "NkC9d-td9_Yc",
        "outputId": "ae2553a2-61c0-4ee2-9741-e2f1aaecb0f9"
      },
      "source": [
        "# Barplot of Genres vs No. of movies\n",
        "genres = list(genrewise_movies_count.keys())\n",
        "counts = list(genrewise_movies_count.values())\n",
        "\n",
        "fig = plt.figure(figsize = (22, 8))\n",
        " \n",
        "# creating the bar plot\n",
        "plt.bar(genres, counts, color ='blue', width = 0.4) \n",
        "plt.xlabel(\"Genres\")\n",
        "plt.ylabel(\"No. of movies\")\n",
        "plt.title(\"Genres vs No. of movies\")\n",
        "plt.show()"
      ],
      "execution_count": 11,
      "outputs": [
        {
          "output_type": "display_data",
          "data": {
            "image/png": "[encoded data removed]",
            "text/plain": [
              "<Figure size 1584x576 with 1 Axes>"
            ]
          },
          "metadata": {
            "tags": [],
            "needs_background": "light"
          }
        }
      ]
    },
    {
      "cell_type": "markdown",
      "metadata": {
        "id": "mZ-0yzEVCN0Q"
      },
      "source": [
        "Analysis : A large number of movies come under Drama and Comedy genre. Some movies are not listed in any genre."
      ]
    },
    {
      "cell_type": "markdown",
      "metadata": {
        "id": "9DdyvYFSvvnx"
      },
      "source": [
        "### Scatter plot for MovieId vs Number of users voted"
      ]
    },
    {
      "cell_type": "code",
      "metadata": {
        "id": "ahzCXwWlCe6u"
      },
      "source": [
        "number_of_users_voted = df_ratings.groupby('movieId')['rating'].agg('count')\n",
        "number_of_movies_voted = df_ratings.groupby('userId')['rating'].agg('count')"
      ],
      "execution_count": 12,
      "outputs": []
    },
    {
      "cell_type": "code",
      "metadata": {
        "colab": {
          "base_uri": "https://localhost:8080/",
          "height": 404
        },
        "id": "3BH4ncEXLuHt",
        "outputId": "9ff1fdad-5461-4774-e9a4-be560e05f239"
      },
      "source": [
        "fig = plt.figure(figsize = (15, 6))\n",
        "plt.scatter(number_of_users_voted.index, number_of_users_voted, color='indigo')\n",
        "plt.axhline(y = 10, color = 'r')\n",
        "plt.xlabel('MovieId')\n",
        "plt.ylabel('Number of users voted')\n",
        "plt.title('MovieId vs Number of users voted')\n",
        "plt.show()"
      ],
      "execution_count": 13,
      "outputs": [
        {
          "output_type": "display_data",
          "data": {
            "image/png": "[encoded data removed]",
            "text/plain": [
              "<Figure size 1080x432 with 1 Axes>"
            ]
          },
          "metadata": {
            "tags": [],
            "needs_background": "light"
          }
        }
      ]
    },
    {
      "cell_type": "markdown",
      "metadata": {
        "id": "mX6lbwXDwxa4"
      },
      "source": [
        "**Analysis : Movies with MovieId 0 to 500 are being voted by more number of user**"
      ]
    },
    {
      "cell_type": "code",
      "metadata": {
        "colab": {
          "base_uri": "https://localhost:8080/",
          "height": 360
        },
        "id": "gYERnDmDMCdf",
        "outputId": "3204760e-8352-4306-f653-a492c84a7d72"
      },
      "source": [
        "# Merge both the datasets\n",
        "df = pd.merge(df_movies, df_ratings, on = 'movieId')\n",
        "print(df.shape)\n",
        "df.head(10)"
      ],
      "execution_count": 14,
      "outputs": [
        {
          "output_type": "stream",
          "text": [
            "(105339, 6)\n"
          ],
          "name": "stdout"
        },
        {
          "output_type": "execute_result",
          "data": {
            "text/html": [
              "<div>\n",
              "<style scoped>\n",
              "    .dataframe tbody tr th:only-of-type {\n",
              "        vertical-align: middle;\n",
              "    }\n",
              "\n",
              "    .dataframe tbody tr th {\n",
              "        vertical-align: top;\n",
              "    }\n",
              "\n",
              "    .dataframe thead th {\n",
              "        text-align: right;\n",
              "    }\n",
              "</style>\n",
              "<table border=\"1\" class=\"dataframe\">\n",
              "  <thead>\n",
              "    <tr style=\"text-align: right;\">\n",
              "      <th></th>\n",
              "      <th>movieId</th>\n",
              "      <th>title</th>\n",
              "      <th>genres</th>\n",
              "      <th>userId</th>\n",
              "      <th>rating</th>\n",
              "      <th>timestamp</th>\n",
              "    </tr>\n",
              "  </thead>\n",
              "  <tbody>\n",
              "    <tr>\n",
              "      <th>0</th>\n",
              "      <td>1</td>\n",
              "      <td>Toy Story (1995)</td>\n",
              "      <td>Adventure|Animation|Children|Comedy|Fantasy</td>\n",
              "      <td>2</td>\n",
              "      <td>5.0</td>\n",
              "      <td>859046895</td>\n",
              "    </tr>\n",
              "    <tr>\n",
              "      <th>1</th>\n",
              "      <td>1</td>\n",
              "      <td>Toy Story (1995)</td>\n",
              "      <td>Adventure|Animation|Children|Comedy|Fantasy</td>\n",
              "      <td>5</td>\n",
              "      <td>4.0</td>\n",
              "      <td>1303501039</td>\n",
              "    </tr>\n",
              "    <tr>\n",
              "      <th>2</th>\n",
              "      <td>1</td>\n",
              "      <td>Toy Story (1995)</td>\n",
              "      <td>Adventure|Animation|Children|Comedy|Fantasy</td>\n",
              "      <td>8</td>\n",
              "      <td>5.0</td>\n",
              "      <td>858610933</td>\n",
              "    </tr>\n",
              "    <tr>\n",
              "      <th>3</th>\n",
              "      <td>1</td>\n",
              "      <td>Toy Story (1995)</td>\n",
              "      <td>Adventure|Animation|Children|Comedy|Fantasy</td>\n",
              "      <td>11</td>\n",
              "      <td>4.0</td>\n",
              "      <td>850815810</td>\n",
              "    </tr>\n",
              "    <tr>\n",
              "      <th>4</th>\n",
              "      <td>1</td>\n",
              "      <td>Toy Story (1995)</td>\n",
              "      <td>Adventure|Animation|Children|Comedy|Fantasy</td>\n",
              "      <td>14</td>\n",
              "      <td>4.0</td>\n",
              "      <td>851766286</td>\n",
              "    </tr>\n",
              "    <tr>\n",
              "      <th>5</th>\n",
              "      <td>1</td>\n",
              "      <td>Toy Story (1995)</td>\n",
              "      <td>Adventure|Animation|Children|Comedy|Fantasy</td>\n",
              "      <td>17</td>\n",
              "      <td>5.0</td>\n",
              "      <td>1350206819</td>\n",
              "    </tr>\n",
              "    <tr>\n",
              "      <th>6</th>\n",
              "      <td>1</td>\n",
              "      <td>Toy Story (1995)</td>\n",
              "      <td>Adventure|Animation|Children|Comedy|Fantasy</td>\n",
              "      <td>28</td>\n",
              "      <td>3.0</td>\n",
              "      <td>884098350</td>\n",
              "    </tr>\n",
              "    <tr>\n",
              "      <th>7</th>\n",
              "      <td>1</td>\n",
              "      <td>Toy Story (1995)</td>\n",
              "      <td>Adventure|Animation|Children|Comedy|Fantasy</td>\n",
              "      <td>29</td>\n",
              "      <td>4.0</td>\n",
              "      <td>846942580</td>\n",
              "    </tr>\n",
              "    <tr>\n",
              "      <th>8</th>\n",
              "      <td>1</td>\n",
              "      <td>Toy Story (1995)</td>\n",
              "      <td>Adventure|Animation|Children|Comedy|Fantasy</td>\n",
              "      <td>30</td>\n",
              "      <td>4.5</td>\n",
              "      <td>1292690069</td>\n",
              "    </tr>\n",
              "    <tr>\n",
              "      <th>9</th>\n",
              "      <td>1</td>\n",
              "      <td>Toy Story (1995)</td>\n",
              "      <td>Adventure|Animation|Children|Comedy|Fantasy</td>\n",
              "      <td>31</td>\n",
              "      <td>4.0</td>\n",
              "      <td>832397496</td>\n",
              "    </tr>\n",
              "  </tbody>\n",
              "</table>\n",
              "</div>"
            ],
            "text/plain": [
              "   movieId             title  ... rating   timestamp\n",
              "0        1  Toy Story (1995)  ...    5.0   859046895\n",
              "1        1  Toy Story (1995)  ...    4.0  1303501039\n",
              "2        1  Toy Story (1995)  ...    5.0   858610933\n",
              "3        1  Toy Story (1995)  ...    4.0   850815810\n",
              "4        1  Toy Story (1995)  ...    4.0   851766286\n",
              "5        1  Toy Story (1995)  ...    5.0  1350206819\n",
              "6        1  Toy Story (1995)  ...    3.0   884098350\n",
              "7        1  Toy Story (1995)  ...    4.0   846942580\n",
              "8        1  Toy Story (1995)  ...    4.5  1292690069\n",
              "9        1  Toy Story (1995)  ...    4.0   832397496\n",
              "\n",
              "[10 rows x 6 columns]"
            ]
          },
          "metadata": {
            "tags": []
          },
          "execution_count": 14
        }
      ]
    },
    {
      "cell_type": "code",
      "metadata": {
        "colab": {
          "base_uri": "https://localhost:8080/"
        },
        "id": "LcQ-WD94zAXW",
        "outputId": "5f252e5f-6d07-437d-bccc-9613fbcb0913"
      },
      "source": [
        "# Groupby all movie titles together and find their mean ratings\n",
        "# average rating of each movie.\n",
        "df.groupby('title')['rating'].mean().head()"
      ],
      "execution_count": 15,
      "outputs": [
        {
          "output_type": "execute_result",
          "data": {
            "text/plain": [
              "title\n",
              "'71 (2014)                                 3.500\n",
              "'Hellboy': The Seeds of Creation (2004)    3.000\n",
              "'Round Midnight (1986)                     2.500\n",
              "'Til There Was You (1997)                  4.000\n",
              "'burbs, The (1989)                         3.125\n",
              "Name: rating, dtype: float64"
            ]
          },
          "metadata": {
            "tags": []
          },
          "execution_count": 15
        }
      ]
    },
    {
      "cell_type": "markdown",
      "metadata": {
        "id": "8QQMXOT44t7-"
      },
      "source": [
        "The average ratings are not sorted. Sort the ratings in the descending order of their average ratings."
      ]
    },
    {
      "cell_type": "code",
      "metadata": {
        "colab": {
          "base_uri": "https://localhost:8080/"
        },
        "id": "iXQs0KCXzJPc",
        "outputId": "850bc191-d061-4b60-c6db-1b5ac8885f6c"
      },
      "source": [
        "# Sort movies based on ratings from highest to lowest\n",
        "df.groupby('title')['rating'].mean().sort_values(ascending = False)"
      ],
      "execution_count": 16,
      "outputs": [
        {
          "output_type": "execute_result",
          "data": {
            "text/plain": [
              "title\n",
              "Being Human (1993)                                   5.0\n",
              "Three Ages (1923)                                    5.0\n",
              "The Liberator (2013)                                 5.0\n",
              "October Baby (2011)                                  5.0\n",
              "Resident Evil: Retribution (2012)                    5.0\n",
              "                                                    ... \n",
              "Day Night Day Night (2006)                           0.5\n",
              "The Aztec Mummy Against the Humanoid Robot (1958)    0.5\n",
              "Angels in America (2003)                             0.5\n",
              "Blood of a Poet, The (Sang d'un poète, Le) (1930)    0.5\n",
              "It's Pat (1994)                                      0.5\n",
              "Name: rating, Length: 10323, dtype: float64"
            ]
          },
          "metadata": {
            "tags": []
          },
          "execution_count": 16
        }
      ]
    },
    {
      "cell_type": "markdown",
      "metadata": {
        "id": "suxyy-QG47M0"
      },
      "source": [
        "A movie can make it to the top of the  list even if only a single user has given it five stars rating. Thus, above stats can be misleading. Usually, a movie which is really a good one will receive a higher rating by a large number of users. So, we will look at the total number of ratings for movie."
      ]
    },
    {
      "cell_type": "code",
      "metadata": {
        "colab": {
          "base_uri": "https://localhost:8080/"
        },
        "id": "Ugf2t-rj5312",
        "outputId": "a1665a54-7728-4933-8dde-aeb242c6edd9"
      },
      "source": [
        "df.groupby('title')['rating'].count().sort_values(ascending=False).head()"
      ],
      "execution_count": 17,
      "outputs": [
        {
          "output_type": "execute_result",
          "data": {
            "text/plain": [
              "title\n",
              "Pulp Fiction (1994)                 325\n",
              "Forrest Gump (1994)                 311\n",
              "Shawshank Redemption, The (1994)    308\n",
              "Jurassic Park (1993)                294\n",
              "Silence of the Lambs, The (1991)    290\n",
              "Name: rating, dtype: int64"
            ]
          },
          "metadata": {
            "tags": []
          },
          "execution_count": 17
        }
      ]
    },
    {
      "cell_type": "markdown",
      "metadata": {
        "id": "BL1EH5JZ550O"
      },
      "source": [
        "Now we can see some really good movies at the top. The above list supports our point that good movies normally receive higher ratings. Now we know that both the average rating per movie and the number of ratings per movie are important attributes. Let's create a new dataframe that contains both of these attributes."
      ]
    },
    {
      "cell_type": "markdown",
      "metadata": {
        "id": "_o04XiLy3TIh"
      },
      "source": [
        "## What is movie rating and how many users voted for this ?"
      ]
    },
    {
      "cell_type": "code",
      "metadata": {
        "colab": {
          "base_uri": "https://localhost:8080/",
          "height": 225
        },
        "id": "6ijn8DSY2Y2I",
        "outputId": "3fcd43cc-bf15-4c37-a05f-ef34fbb1f204"
      },
      "source": [
        "# create a dataframe\n",
        "data = pd.DataFrame(df.groupby('title')['rating'].mean())\n",
        "data['rating_counts'] = pd.DataFrame(df['title'].value_counts())\n",
        "data.head()"
      ],
      "execution_count": 18,
      "outputs": [
        {
          "output_type": "execute_result",
          "data": {
            "text/html": [
              "<div>\n",
              "<style scoped>\n",
              "    .dataframe tbody tr th:only-of-type {\n",
              "        vertical-align: middle;\n",
              "    }\n",
              "\n",
              "    .dataframe tbody tr th {\n",
              "        vertical-align: top;\n",
              "    }\n",
              "\n",
              "    .dataframe thead th {\n",
              "        text-align: right;\n",
              "    }\n",
              "</style>\n",
              "<table border=\"1\" class=\"dataframe\">\n",
              "  <thead>\n",
              "    <tr style=\"text-align: right;\">\n",
              "      <th></th>\n",
              "      <th>rating</th>\n",
              "      <th>rating_counts</th>\n",
              "    </tr>\n",
              "    <tr>\n",
              "      <th>title</th>\n",
              "      <th></th>\n",
              "      <th></th>\n",
              "    </tr>\n",
              "  </thead>\n",
              "  <tbody>\n",
              "    <tr>\n",
              "      <th>'71 (2014)</th>\n",
              "      <td>3.500</td>\n",
              "      <td>1</td>\n",
              "    </tr>\n",
              "    <tr>\n",
              "      <th>'Hellboy': The Seeds of Creation (2004)</th>\n",
              "      <td>3.000</td>\n",
              "      <td>1</td>\n",
              "    </tr>\n",
              "    <tr>\n",
              "      <th>'Round Midnight (1986)</th>\n",
              "      <td>2.500</td>\n",
              "      <td>1</td>\n",
              "    </tr>\n",
              "    <tr>\n",
              "      <th>'Til There Was You (1997)</th>\n",
              "      <td>4.000</td>\n",
              "      <td>3</td>\n",
              "    </tr>\n",
              "    <tr>\n",
              "      <th>'burbs, The (1989)</th>\n",
              "      <td>3.125</td>\n",
              "      <td>20</td>\n",
              "    </tr>\n",
              "  </tbody>\n",
              "</table>\n",
              "</div>"
            ],
            "text/plain": [
              "                                         rating  rating_counts\n",
              "title                                                         \n",
              "'71 (2014)                                3.500              1\n",
              "'Hellboy': The Seeds of Creation (2004)   3.000              1\n",
              "'Round Midnight (1986)                    2.500              1\n",
              "'Til There Was You (1997)                 4.000              3\n",
              "'burbs, The (1989)                        3.125             20"
            ]
          },
          "metadata": {
            "tags": []
          },
          "execution_count": 18
        }
      ]
    },
    {
      "cell_type": "markdown",
      "metadata": {
        "id": "Ke01Es2_37TW"
      },
      "source": [
        "## How many users have rated a given movie ?"
      ]
    },
    {
      "cell_type": "code",
      "metadata": {
        "colab": {
          "base_uri": "https://localhost:8080/"
        },
        "id": "0yRdxO2O3Zvo",
        "outputId": "9a79410f-e069-4775-a337-dde83702b8e1"
      },
      "source": [
        "df['title'].value_counts()"
      ],
      "execution_count": 19,
      "outputs": [
        {
          "output_type": "execute_result",
          "data": {
            "text/plain": [
              "Pulp Fiction (1994)                           325\n",
              "Forrest Gump (1994)                           311\n",
              "Shawshank Redemption, The (1994)              308\n",
              "Jurassic Park (1993)                          294\n",
              "Silence of the Lambs, The (1991)              290\n",
              "                                             ... \n",
              "Lie, The (2011)                                 1\n",
              "Maniac (2012)                                   1\n",
              "Page One: Inside the New York Times (2011)      1\n",
              "Tony Rome (1967)                                1\n",
              "Triumph of Love, The (2001)                     1\n",
              "Name: title, Length: 10323, dtype: int64"
            ]
          },
          "metadata": {
            "tags": []
          },
          "execution_count": 19
        }
      ]
    }
  ]
}